{
 "cells": [
  {
   "cell_type": "markdown",
   "metadata": {
    "collapsed": true
   },
   "source": [
    "http://python.net/~goodger/projects/pycon/2007/idiomatic/handout.html\n",
    "\n",
    "# Code Like a Pythonista: Idiomatic Python\n",
    "\n",
    "David Goodger\n",
    "\n",
    "goodger@python.org\n",
    "\n",
    "http://python.net/~goodger\n",
    "\n",
    "In this interactive tutorial, we'll cover many essential Python idioms and techniques in depth, adding immediately useful tools to your belt.\n",
    "\n",
    "There are 3 versions of this presentation:\n",
    "\n",
    "- S5 presentation\n",
    "\n",
    "- Plain HTML handout\n",
    "\n",
    "- reStructuredText source\n",
    "\n",
    "©2006-2008, licensed under a Creative Commons Attribution/Share-Alike (BY-SA) license.\n",
    "\n",
    "My credentials: I am\n",
    "\n",
    "- a resident of Montreal,\n",
    "\n",
    "- father of two great kids, husband of one special woman,\n",
    "\n",
    "- a full-time Python programmer,\n",
    "\n",
    "- author of the Docutils project and reStructuredText,\n",
    "\n",
    "- an editor of the Python Enhancement Proposals (or PEPs),\n",
    "\n",
    "- an organizer of PyCon 2007, and chair of PyCon 2008,\n",
    "\n",
    "- a member of the Python Software Foundation,\n",
    "\n",
    "- a Director of the Foundation for the past year, and its Secretary.\n",
    "\n",
    "In the tutorial I presented at PyCon 2006 (called Text & Data Processing), I was surprised at the reaction to some techniques I used that I had thought were common knowledge. But many of the attendees were unaware of these tools that experienced Python programmers use without thinking.\n",
    "\n",
    "Many of you will have seen some of these techniques and idioms before. Hopefully you'll learn a few techniques that you haven't seen before and maybe something new about the ones you have already seen."
   ]
  },
  {
   "cell_type": "markdown",
   "metadata": {
    "collapsed": true
   },
   "source": [
    "# The Zen of Python (1)\n",
    "\n",
    "These are the guiding principles of Python, but are open to interpretation. A sense of humor is required for their proper interpretation.\n",
    "\n",
    "If you're using a programming language named after a sketch comedy troupe, you had better have a sense of humor.\n",
    "\n",
    "    Beautiful is better than ugly.\n",
    "    Explicit is better than implicit.\n",
    "    Simple is better than complex.\n",
    "    Complex is better than complicated.\n",
    "    Flat is better than nested.\n",
    "    Sparse is better than dense.\n",
    "    Readability counts.\n",
    "    Special cases aren't special enough to break the rules.\n",
    "    Although practicality beats purity.\n",
    "    Errors should never pass silently.\n",
    "    Unless explicitly silenced."
   ]
  },
  {
   "cell_type": "markdown",
   "metadata": {},
   "source": [
    "# The Zen of Python (2)\n",
    "\n",
    "    In the face of ambiguity, refuse the temptation to guess.\n",
    "    There should be one—and preferably only one—obvious way to do it.\n",
    "    Although that way may not be obvious at first unless you're Dutch.\n",
    "    Now is better than never.\n",
    "    Although never is often better than right now.\n",
    "    If the implementation is hard to explain, it's a bad idea.\n",
    "    If the implementation is easy to explain, it may be a good idea.\n",
    "    Namespaces are one honking great idea—let's do more of those!\n",
    "    —Tim Peters\n",
    "\n",
    "This particular \"poem\" began as a kind of a joke, but it really embeds a lot of truth about the philosophy behind Python. The Zen of Python has been formalized in PEP 20, where the abstract reads:\n",
    "\n",
    "    Long time Pythoneer Tim Peters succinctly channels the BDFL's guiding principles for Python's design into 20 aphorisms, only 19 of which have been written down.\n",
    "    —http://www.python.org/dev/peps/pep-0020/\n",
    "\n",
    "You can decide for yourself if you're a \"Pythoneer\" or a \"Pythonista\". The terms have somewhat different connotations.\n",
    "\n",
    "When in doubt:\n",
    "\n",
    "    import this\n",
    "\n",
    "Try it in a Python interactive interpreter:"
   ]
  },
  {
   "cell_type": "code",
   "execution_count": 1,
   "metadata": {},
   "outputs": [
    {
     "name": "stdout",
     "output_type": "stream",
     "text": [
      "The Zen of Python, by Tim Peters\n",
      "\n",
      "Beautiful is better than ugly.\n",
      "Explicit is better than implicit.\n",
      "Simple is better than complex.\n",
      "Complex is better than complicated.\n",
      "Flat is better than nested.\n",
      "Sparse is better than dense.\n",
      "Readability counts.\n",
      "Special cases aren't special enough to break the rules.\n",
      "Although practicality beats purity.\n",
      "Errors should never pass silently.\n",
      "Unless explicitly silenced.\n",
      "In the face of ambiguity, refuse the temptation to guess.\n",
      "There should be one-- and preferably only one --obvious way to do it.\n",
      "Although that way may not be obvious at first unless you're Dutch.\n",
      "Now is better than never.\n",
      "Although never is often better than *right* now.\n",
      "If the implementation is hard to explain, it's a bad idea.\n",
      "If the implementation is easy to explain, it may be a good idea.\n",
      "Namespaces are one honking great idea -- let's do more of those!\n"
     ]
    }
   ],
   "source": [
    "import this"
   ]
  },
  {
   "cell_type": "markdown",
   "metadata": {},
   "source": [
    "Here's another easter egg:"
   ]
  },
  {
   "cell_type": "code",
   "execution_count": 2,
   "metadata": {},
   "outputs": [
    {
     "ename": "SyntaxError",
     "evalue": "not a chance (<ipython-input-2-2aebb3fc8ecf>, line 1)",
     "output_type": "error",
     "traceback": [
      "\u001b[0;36m  File \u001b[0;32m\"<ipython-input-2-2aebb3fc8ecf>\"\u001b[0;36m, line \u001b[0;32m1\u001b[0m\n\u001b[0;31m    from __future__ import braces\u001b[0m\n\u001b[0;31mSyntaxError\u001b[0m\u001b[0;31m:\u001b[0m not a chance\n"
     ]
    }
   ],
   "source": [
    "from __future__ import braces"
   ]
  },
  {
   "cell_type": "markdown",
   "metadata": {},
   "source": [
    "What a bunch of comedians! :-)"
   ]
  },
  {
   "cell_type": "markdown",
   "metadata": {},
   "source": [
    "# Coding Style: Readability Counts\n",
    "\n",
    "    Programs must be written for people to read, and only incidentally for machines to execute.\n",
    "    — Abelson & Sussman, *Structure and Interpretation of Computer Programs*\n",
    "\n",
    "Try to make your programs easy to read and obvious."
   ]
  },
  {
   "cell_type": "markdown",
   "metadata": {},
   "source": [
    "# PEP 8: Style Guide for Python Code\n",
    "\n",
    "Worthwhile reading: http://www.python.org/dev/peps/pep-0008/\n",
    "\n",
    "PEP = Python Enhancement Proposal\n",
    "\n",
    "A PEP is a design document providing information to the Python community, or describing a new feature for Python or its processes or environment.\n",
    "\n",
    "The Python community has its own standards for what source code should look like, codified in PEP 8. These standards are different from those of other communities, like C, C++, C#, Java, VisualBasic, etc.\n",
    "\n",
    "Because indentation and whitespace are so important in Python, the Style Guide for Python Code approaches a standard. It would be wise to adhere to the guide! Most open-source projects and (hopefully) in-house projects follow the style guide quite closely."
   ]
  },
  {
   "cell_type": "markdown",
   "metadata": {},
   "source": [
    "# Whitespace 1\n",
    "\n",
    "- 4 spaces per indentation level.\n",
    "\n",
    "- No hard tabs.\n",
    "\n",
    "- Never mix tabs and spaces.\n",
    "\n",
    "    This is exactly what IDLE and the Emacs Python mode support. Other editors may also provide this support.\n",
    "\n",
    "- One blank line between functions.\n",
    "\n",
    "- Two blank lines between classes."
   ]
  },
  {
   "cell_type": "markdown",
   "metadata": {},
   "source": [
    "# Whitespace 2\n",
    "\n",
    "- Add a space after \",\" in dicts, lists, tuples, & argument lists, and after \":\" in dicts, but not before.\n",
    "\n",
    "- Put spaces around assignments & comparisons (except in argument lists).\n",
    "\n",
    "- No spaces just inside parentheses or just before argument lists.\n",
    "\n",
    "- No spaces just inside docstrings."
   ]
  },
  {
   "cell_type": "code",
   "execution_count": 3,
   "metadata": {
    "collapsed": true
   },
   "outputs": [],
   "source": [
    "def make_squares(key, value=0):\n",
    "    \"\"\"Return a dictionary and a list...\"\"\"\n",
    "    d = {key: value}\n",
    "    l = [key, value]\n",
    "    return d, l"
   ]
  },
  {
   "cell_type": "markdown",
   "metadata": {},
   "source": [
    "# Naming\n",
    "\n",
    "- joined_lower for functions, methods, attributes\n",
    "\n",
    "- joined_lower or ALL_CAPS for constants\n",
    "\n",
    "- StudlyCaps for classes\n",
    "\n",
    "- camelCase only to conform to pre-existing conventions\n",
    "\n",
    "- Attributes: interface, _internal, __private\n",
    "\n",
    "But try to avoid the __private form. I never use it. Trust me. If you use it, you WILL regret it later.\n",
    "\n",
    "Explanation:\n",
    "\n",
    "People coming from a C++/Java background are especially prone to overusing/misusing this \"feature\". But __private names don't work the same way as in Java or C++. They just trigger a name mangling whose purpose is to prevent accidental namespace collisions in subclasses: MyClass.__private just becomes MyClass._MyClass__private. (Note that even this breaks down for subclasses with the same name as the superclass, e.g. subclasses in different modules.) It is possible to access __private names from outside their class, just inconvenient and fragile (it adds a dependency on the exact name of the superclass).\n",
    "\n",
    "The problem is that the author of a class may legitimately think \"this attribute/method name should be private, only accessible from within this class definition\" and use the __private convention. But later on, a user of that class may make a subclass that legitimately needs access to that name. So either the superclass has to be modified (which may be difficult or impossible), or the subclass code has to use manually mangled names (which is ugly and fragile at best).\n",
    "\n",
    "There's a concept in Python: \"we're all consenting adults here\". If you use the __private form, who are you protecting the attribute from? It's the responsibility of subclasses to use attributes from superclasses properly, and it's the responsibility of superclasses to document their attributes properly.\n",
    "\n",
    "It's better to use the single-leading-underscore convention, _internal. 　This isn't name mangled at all; it just indicates to others to \"be careful with this, it's an internal implementation detail; don't touch it if you don't fully understand it\". It's only a convention though.\n",
    "\n",
    "There are some good explanations in the answers here:\n",
    "\n",
    "http://stackoverflow.com/questions/70528/why-are-pythons-private-methods-not-actually-private\n",
    "\n",
    "http://stackoverflow.com/questions/1641219/does-python-have-private-variables-in-classes"
   ]
  },
  {
   "cell_type": "markdown",
   "metadata": {},
   "source": [
    "# Long Lines & Continuations\n",
    "\n",
    "Keep lines below 80 characters in length.\n",
    "\n",
    "Use implied line continuation inside parentheses/brackets/braces:"
   ]
  },
  {
   "cell_type": "code",
   "execution_count": 4,
   "metadata": {
    "collapsed": true
   },
   "outputs": [],
   "source": [
    "def __init__(self, first, second, third,\n",
    "             fourth, fifth, sixth):\n",
    "    output = (first + second + third\n",
    "              + fourth + fifth + sixth)"
   ]
  },
  {
   "cell_type": "markdown",
   "metadata": {},
   "source": [
    "Use backslashes as a last resort:"
   ]
  },
  {
   "cell_type": "code",
   "execution_count": 5,
   "metadata": {},
   "outputs": [
    {
     "ename": "NameError",
     "evalue": "name 'even_longer' is not defined",
     "output_type": "error",
     "traceback": [
      "\u001b[0;31m---------------------------------------------------------------------------\u001b[0m",
      "\u001b[0;31mNameError\u001b[0m                                 Traceback (most recent call last)",
      "\u001b[0;32m<ipython-input-5-19f54e03795b>\u001b[0m in \u001b[0;36m<module>\u001b[0;34m()\u001b[0m\n\u001b[0;32m----> 1\u001b[0;31m \u001b[0mVeryLong\u001b[0m\u001b[0;34m.\u001b[0m\u001b[0mleft_hand_side\u001b[0m     \u001b[0;34m=\u001b[0m \u001b[0meven_longer\u001b[0m\u001b[0;34m.\u001b[0m\u001b[0mright_hand_side\u001b[0m\u001b[0;34m(\u001b[0m\u001b[0;34m)\u001b[0m\u001b[0;34m\u001b[0m\u001b[0m\n\u001b[0m",
      "\u001b[0;31mNameError\u001b[0m: name 'even_longer' is not defined"
     ]
    }
   ],
   "source": [
    "VeryLong.left_hand_side \\\n",
    "    = even_longer.right_hand_side()"
   ]
  },
  {
   "cell_type": "markdown",
   "metadata": {},
   "source": [
    "Backslashes are fragile; they must end the line they're on. If you add a space after the backslash, it won't work any more. Also, they're ugly."
   ]
  },
  {
   "cell_type": "code",
   "execution_count": null,
   "metadata": {
    "collapsed": true
   },
   "outputs": [],
   "source": []
  },
  {
   "cell_type": "code",
   "execution_count": null,
   "metadata": {
    "collapsed": true
   },
   "outputs": [],
   "source": []
  },
  {
   "cell_type": "code",
   "execution_count": null,
   "metadata": {
    "collapsed": true
   },
   "outputs": [],
   "source": []
  },
  {
   "cell_type": "code",
   "execution_count": null,
   "metadata": {
    "collapsed": true
   },
   "outputs": [],
   "source": []
  },
  {
   "cell_type": "code",
   "execution_count": null,
   "metadata": {
    "collapsed": true
   },
   "outputs": [],
   "source": []
  },
  {
   "cell_type": "code",
   "execution_count": null,
   "metadata": {
    "collapsed": true
   },
   "outputs": [],
   "source": []
  },
  {
   "cell_type": "code",
   "execution_count": null,
   "metadata": {
    "collapsed": true
   },
   "outputs": [],
   "source": []
  },
  {
   "cell_type": "code",
   "execution_count": null,
   "metadata": {
    "collapsed": true
   },
   "outputs": [],
   "source": []
  },
  {
   "cell_type": "code",
   "execution_count": null,
   "metadata": {
    "collapsed": true
   },
   "outputs": [],
   "source": []
  }
 ],
 "metadata": {
  "kernelspec": {
   "display_name": "Python 2",
   "language": "python",
   "name": "python2"
  },
  "language_info": {
   "codemirror_mode": {
    "name": "ipython",
    "version": 2
   },
   "file_extension": ".py",
   "mimetype": "text/x-python",
   "name": "python",
   "nbconvert_exporter": "python",
   "pygments_lexer": "ipython2",
   "version": "2.7.13"
  }
 },
 "nbformat": 4,
 "nbformat_minor": 2
}
