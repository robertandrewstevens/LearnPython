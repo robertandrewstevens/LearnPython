{
 "cells": [
  {
   "cell_type": "markdown",
   "metadata": {
    "collapsed": true
   },
   "source": [
    "http://python.net/~goodger/projects/pycon/2007/idiomatic/handout.html\n",
    "\n",
    "# Code Like a Pythonista: Idiomatic Python\n",
    "\n",
    "David Goodger\n",
    "\n",
    "goodger@python.org\n",
    "\n",
    "http://python.net/~goodger\n",
    "\n",
    "In this interactive tutorial, we'll cover many essential Python idioms and techniques in depth, adding immediately useful tools to your belt.\n",
    "\n",
    "There are 3 versions of this presentation:\n",
    "\n",
    "- S5 presentation\n",
    "\n",
    "- Plain HTML handout\n",
    "\n",
    "- reStructuredText source\n",
    "\n",
    "©2006-2008, licensed under a Creative Commons Attribution/Share-Alike (BY-SA) license.\n",
    "\n",
    "My credentials: I am\n",
    "\n",
    "- a resident of Montreal,\n",
    "\n",
    "- father of two great kids, husband of one special woman,\n",
    "\n",
    "- a full-time Python programmer,\n",
    "\n",
    "- author of the Docutils project and reStructuredText,\n",
    "\n",
    "- an editor of the Python Enhancement Proposals (or PEPs),\n",
    "\n",
    "- an organizer of PyCon 2007, and chair of PyCon 2008,\n",
    "\n",
    "- a member of the Python Software Foundation,\n",
    "\n",
    "- a Director of the Foundation for the past year, and its Secretary.\n",
    "\n",
    "In the tutorial I presented at PyCon 2006 (called Text & Data Processing), I was surprised at the reaction to some techniques I used that I had thought were common knowledge. But many of the attendees were unaware of these tools that experienced Python programmers use without thinking.\n",
    "\n",
    "Many of you will have seen some of these techniques and idioms before. Hopefully you'll learn a few techniques that you haven't seen before and maybe something new about the ones you have already seen."
   ]
  },
  {
   "cell_type": "markdown",
   "metadata": {
    "collapsed": true
   },
   "source": [
    "# The Zen of Python (1)\n",
    "\n",
    "These are the guiding principles of Python, but are open to interpretation. A sense of humor is required for their proper interpretation.\n",
    "\n",
    "If you're using a programming language named after a sketch comedy troupe, you had better have a sense of humor.\n",
    "\n",
    "    Beautiful is better than ugly.\n",
    "    Explicit is better than implicit.\n",
    "    Simple is better than complex.\n",
    "    Complex is better than complicated.\n",
    "    Flat is better than nested.\n",
    "    Sparse is better than dense.\n",
    "    Readability counts.\n",
    "    Special cases aren't special enough to break the rules.\n",
    "    Although practicality beats purity.\n",
    "    Errors should never pass silently.\n",
    "    Unless explicitly silenced."
   ]
  },
  {
   "cell_type": "markdown",
   "metadata": {},
   "source": [
    "# The Zen of Python (2)\n",
    "\n",
    "    In the face of ambiguity, refuse the temptation to guess.\n",
    "    There should be one—and preferably only one—obvious way to do it.\n",
    "    Although that way may not be obvious at first unless you're Dutch.\n",
    "    Now is better than never.\n",
    "    Although never is often better than right now.\n",
    "    If the implementation is hard to explain, it's a bad idea.\n",
    "    If the implementation is easy to explain, it may be a good idea.\n",
    "    Namespaces are one honking great idea—let's do more of those!\n",
    "    —Tim Peters\n",
    "\n",
    "This particular \"poem\" began as a kind of a joke, but it really embeds a lot of truth about the philosophy behind Python. The Zen of Python has been formalized in PEP 20, where the abstract reads:\n",
    "\n",
    "    Long time Pythoneer Tim Peters succinctly channels the BDFL's guiding principles for Python's design into 20 aphorisms, only 19 of which have been written down.\n",
    "    —http://www.python.org/dev/peps/pep-0020/\n",
    "\n",
    "You can decide for yourself if you're a \"Pythoneer\" or a \"Pythonista\". The terms have somewhat different connotations.\n",
    "\n",
    "When in doubt:\n",
    "\n",
    "    import this\n",
    "\n",
    "Try it in a Python interactive interpreter:"
   ]
  },
  {
   "cell_type": "code",
   "execution_count": 1,
   "metadata": {},
   "outputs": [
    {
     "name": "stdout",
     "output_type": "stream",
     "text": [
      "The Zen of Python, by Tim Peters\n",
      "\n",
      "Beautiful is better than ugly.\n",
      "Explicit is better than implicit.\n",
      "Simple is better than complex.\n",
      "Complex is better than complicated.\n",
      "Flat is better than nested.\n",
      "Sparse is better than dense.\n",
      "Readability counts.\n",
      "Special cases aren't special enough to break the rules.\n",
      "Although practicality beats purity.\n",
      "Errors should never pass silently.\n",
      "Unless explicitly silenced.\n",
      "In the face of ambiguity, refuse the temptation to guess.\n",
      "There should be one-- and preferably only one --obvious way to do it.\n",
      "Although that way may not be obvious at first unless you're Dutch.\n",
      "Now is better than never.\n",
      "Although never is often better than *right* now.\n",
      "If the implementation is hard to explain, it's a bad idea.\n",
      "If the implementation is easy to explain, it may be a good idea.\n",
      "Namespaces are one honking great idea -- let's do more of those!\n"
     ]
    }
   ],
   "source": [
    "import this"
   ]
  },
  {
   "cell_type": "markdown",
   "metadata": {},
   "source": [
    "Here's another easter egg:"
   ]
  },
  {
   "cell_type": "code",
   "execution_count": 2,
   "metadata": {},
   "outputs": [
    {
     "ename": "SyntaxError",
     "evalue": "not a chance (<ipython-input-2-2aebb3fc8ecf>, line 1)",
     "output_type": "error",
     "traceback": [
      "\u001b[0;36m  File \u001b[0;32m\"<ipython-input-2-2aebb3fc8ecf>\"\u001b[0;36m, line \u001b[0;32m1\u001b[0m\n\u001b[0;31m    from __future__ import braces\u001b[0m\n\u001b[0;31mSyntaxError\u001b[0m\u001b[0;31m:\u001b[0m not a chance\n"
     ]
    }
   ],
   "source": [
    "from __future__ import braces"
   ]
  },
  {
   "cell_type": "markdown",
   "metadata": {},
   "source": [
    "What a bunch of comedians! :-)"
   ]
  },
  {
   "cell_type": "markdown",
   "metadata": {},
   "source": [
    "# Coding Style: Readability Counts\n",
    "\n",
    "    Programs must be written for people to read, and only incidentally for machines to execute.\n",
    "    — Abelson & Sussman, *Structure and Interpretation of Computer Programs*\n",
    "\n",
    "Try to make your programs easy to read and obvious."
   ]
  },
  {
   "cell_type": "markdown",
   "metadata": {},
   "source": [
    "# PEP 8: Style Guide for Python Code\n",
    "\n",
    "Worthwhile reading: http://www.python.org/dev/peps/pep-0008/\n",
    "\n",
    "PEP = Python Enhancement Proposal\n",
    "\n",
    "A PEP is a design document providing information to the Python community, or describing a new feature for Python or its processes or environment.\n",
    "\n",
    "The Python community has its own standards for what source code should look like, codified in PEP 8. These standards are different from those of other communities, like C, C++, C#, Java, VisualBasic, etc.\n",
    "\n",
    "Because indentation and whitespace are so important in Python, the Style Guide for Python Code approaches a standard. It would be wise to adhere to the guide! Most open-source projects and (hopefully) in-house projects follow the style guide quite closely."
   ]
  },
  {
   "cell_type": "markdown",
   "metadata": {},
   "source": [
    "# Whitespace 1\n",
    "\n",
    "- 4 spaces per indentation level.\n",
    "\n",
    "- No hard tabs.\n",
    "\n",
    "- Never mix tabs and spaces.\n",
    "\n",
    "    This is exactly what IDLE and the Emacs Python mode support. Other editors may also provide this support.\n",
    "\n",
    "- One blank line between functions.\n",
    "\n",
    "- Two blank lines between classes."
   ]
  },
  {
   "cell_type": "markdown",
   "metadata": {},
   "source": [
    "# Whitespace 2\n",
    "\n",
    "- Add a space after \",\" in dicts, lists, tuples, & argument lists, and after \":\" in dicts, but not before.\n",
    "\n",
    "- Put spaces around assignments & comparisons (except in argument lists).\n",
    "\n",
    "- No spaces just inside parentheses or just before argument lists.\n",
    "\n",
    "- No spaces just inside docstrings."
   ]
  },
  {
   "cell_type": "code",
   "execution_count": 3,
   "metadata": {
    "collapsed": true
   },
   "outputs": [],
   "source": [
    "def make_squares(key, value=0):\n",
    "    \"\"\"Return a dictionary and a list...\"\"\"\n",
    "    d = {key: value}\n",
    "    l = [key, value]\n",
    "    return d, l"
   ]
  },
  {
   "cell_type": "markdown",
   "metadata": {},
   "source": [
    "# Naming\n",
    "\n",
    "- joined_lower for functions, methods, attributes\n",
    "\n",
    "- joined_lower or ALL_CAPS for constants\n",
    "\n",
    "- StudlyCaps for classes\n",
    "\n",
    "- camelCase only to conform to pre-existing conventions\n",
    "\n",
    "- Attributes: interface, _internal, __private\n",
    "\n",
    "But try to avoid the __private form. I never use it. Trust me. If you use it, you WILL regret it later.\n",
    "\n",
    "Explanation:\n",
    "\n",
    "People coming from a C++/Java background are especially prone to overusing/misusing this \"feature\". But __private names don't work the same way as in Java or C++. They just trigger a name mangling whose purpose is to prevent accidental namespace collisions in subclasses: MyClass.__private just becomes MyClass._MyClass__private. (Note that even this breaks down for subclasses with the same name as the superclass, e.g. subclasses in different modules.) It is possible to access __private names from outside their class, just inconvenient and fragile (it adds a dependency on the exact name of the superclass).\n",
    "\n",
    "The problem is that the author of a class may legitimately think \"this attribute/method name should be private, only accessible from within this class definition\" and use the __private convention. But later on, a user of that class may make a subclass that legitimately needs access to that name. So either the superclass has to be modified (which may be difficult or impossible), or the subclass code has to use manually mangled names (which is ugly and fragile at best).\n",
    "\n",
    "There's a concept in Python: \"we're all consenting adults here\". If you use the __private form, who are you protecting the attribute from? It's the responsibility of subclasses to use attributes from superclasses properly, and it's the responsibility of superclasses to document their attributes properly.\n",
    "\n",
    "It's better to use the single-leading-underscore convention, _internal. 　This isn't name mangled at all; it just indicates to others to \"be careful with this, it's an internal implementation detail; don't touch it if you don't fully understand it\". It's only a convention though.\n",
    "\n",
    "There are some good explanations in the answers here:\n",
    "\n",
    "http://stackoverflow.com/questions/70528/why-are-pythons-private-methods-not-actually-private\n",
    "\n",
    "http://stackoverflow.com/questions/1641219/does-python-have-private-variables-in-classes"
   ]
  },
  {
   "cell_type": "markdown",
   "metadata": {},
   "source": [
    "# Long Lines & Continuations\n",
    "\n",
    "Keep lines below 80 characters in length.\n",
    "\n",
    "Use implied line continuation inside parentheses/brackets/braces:"
   ]
  },
  {
   "cell_type": "code",
   "execution_count": 4,
   "metadata": {
    "collapsed": true
   },
   "outputs": [],
   "source": [
    "def __init__(self, first, second, third,\n",
    "             fourth, fifth, sixth):\n",
    "    output = (first + second + third\n",
    "              + fourth + fifth + sixth)"
   ]
  },
  {
   "cell_type": "markdown",
   "metadata": {},
   "source": [
    "Use backslashes as a last resort:"
   ]
  },
  {
   "cell_type": "code",
   "execution_count": 5,
   "metadata": {},
   "outputs": [
    {
     "ename": "NameError",
     "evalue": "name 'even_longer' is not defined",
     "output_type": "error",
     "traceback": [
      "\u001b[0;31m---------------------------------------------------------------------------\u001b[0m",
      "\u001b[0;31mNameError\u001b[0m                                 Traceback (most recent call last)",
      "\u001b[0;32m<ipython-input-5-19f54e03795b>\u001b[0m in \u001b[0;36m<module>\u001b[0;34m()\u001b[0m\n\u001b[0;32m----> 1\u001b[0;31m \u001b[0mVeryLong\u001b[0m\u001b[0;34m.\u001b[0m\u001b[0mleft_hand_side\u001b[0m     \u001b[0;34m=\u001b[0m \u001b[0meven_longer\u001b[0m\u001b[0;34m.\u001b[0m\u001b[0mright_hand_side\u001b[0m\u001b[0;34m(\u001b[0m\u001b[0;34m)\u001b[0m\u001b[0;34m\u001b[0m\u001b[0m\n\u001b[0m",
      "\u001b[0;31mNameError\u001b[0m: name 'even_longer' is not defined"
     ]
    }
   ],
   "source": [
    "VeryLong.left_hand_side \\\n",
    "    = even_longer.right_hand_side()"
   ]
  },
  {
   "cell_type": "markdown",
   "metadata": {},
   "source": [
    "Backslashes are fragile; they must end the line they're on. If you add a space after the backslash, it won't work any more. Also, they're ugly."
   ]
  },
  {
   "cell_type": "markdown",
   "metadata": {},
   "source": [
    "# Long Strings\n",
    "\n",
    "Adjacent literal strings are concatenated by the parser:"
   ]
  },
  {
   "cell_type": "code",
   "execution_count": 6,
   "metadata": {},
   "outputs": [
    {
     "name": "stdout",
     "output_type": "stream",
     "text": [
      "one\n"
     ]
    }
   ],
   "source": [
    "print 'o' 'n' \"e\""
   ]
  },
  {
   "cell_type": "markdown",
   "metadata": {},
   "source": [
    "The spaces between literals are not required, but help with readability. Any type of quoting can be used:"
   ]
  },
  {
   "cell_type": "code",
   "execution_count": 7,
   "metadata": {},
   "outputs": [
    {
     "name": "stdout",
     "output_type": "stream",
     "text": [
      "t\\/\\/o\n"
     ]
    }
   ],
   "source": [
    "print 't' r'\\/\\/' \"\"\"o\"\"\""
   ]
  },
  {
   "cell_type": "markdown",
   "metadata": {},
   "source": [
    "The string prefixed with an \"r\" is a \"raw\" string. Backslashes are not evaluated as escapes in raw strings. They're useful for regular expressions and Windows filesystem paths.\n",
    "\n",
    "Note named string objects are not concatenated:"
   ]
  },
  {
   "cell_type": "code",
   "execution_count": 8,
   "metadata": {},
   "outputs": [
    {
     "ename": "SyntaxError",
     "evalue": "invalid syntax (<ipython-input-8-11c003d22034>, line 3)",
     "output_type": "error",
     "traceback": [
      "\u001b[0;36m  File \u001b[0;32m\"<ipython-input-8-11c003d22034>\"\u001b[0;36m, line \u001b[0;32m3\u001b[0m\n\u001b[0;31m    a b\u001b[0m\n\u001b[0m      ^\u001b[0m\n\u001b[0;31mSyntaxError\u001b[0m\u001b[0;31m:\u001b[0m invalid syntax\n"
     ]
    }
   ],
   "source": [
    "a = 'three'\n",
    "b = 'four'\n",
    "a b"
   ]
  },
  {
   "cell_type": "markdown",
   "metadata": {},
   "source": [
    "That's because this automatic concatenation is a feature of the Python parser/compiler, not the interpreter. You must use the \"+\" operator to concatenate strings at run time."
   ]
  },
  {
   "cell_type": "code",
   "execution_count": 10,
   "metadata": {
    "collapsed": true
   },
   "outputs": [],
   "source": [
    "text = ('Long strings can be made up '\n",
    "        'of several shorter strings.')"
   ]
  },
  {
   "cell_type": "markdown",
   "metadata": {},
   "source": [
    "The parentheses allow implicit line continuation.\n",
    "\n",
    "Multiline strings use triple quotes:"
   ]
  },
  {
   "cell_type": "code",
   "execution_count": 11,
   "metadata": {},
   "outputs": [
    {
     "data": {
      "text/plain": [
       "'Triple\\ndouble\\nquotes'"
      ]
     },
     "execution_count": 11,
     "metadata": {},
     "output_type": "execute_result"
    }
   ],
   "source": [
    "\"\"\"Triple\n",
    "double\n",
    "quotes\"\"\""
   ]
  },
  {
   "cell_type": "markdown",
   "metadata": {},
   "source": [
    "In the last example above (triple single quotes), note how the backslashes are used to escape the newlines. This eliminates extra newlines, while keeping the text and quotes nicely left-justified. The backslashes must be at the end of their lines."
   ]
  },
  {
   "cell_type": "markdown",
   "metadata": {},
   "source": [
    "# Compound Statements\n",
    "\n",
    "Good:"
   ]
  },
  {
   "cell_type": "code",
   "execution_count": 12,
   "metadata": {},
   "outputs": [
    {
     "ename": "NameError",
     "evalue": "name 'foo' is not defined",
     "output_type": "error",
     "traceback": [
      "\u001b[0;31m---------------------------------------------------------------------------\u001b[0m",
      "\u001b[0;31mNameError\u001b[0m                                 Traceback (most recent call last)",
      "\u001b[0;32m<ipython-input-12-235ea05c70ff>\u001b[0m in \u001b[0;36m<module>\u001b[0;34m()\u001b[0m\n\u001b[0;32m----> 1\u001b[0;31m \u001b[0;32mif\u001b[0m \u001b[0mfoo\u001b[0m \u001b[0;34m==\u001b[0m \u001b[0;34m'blah'\u001b[0m\u001b[0;34m:\u001b[0m\u001b[0;34m\u001b[0m\u001b[0m\n\u001b[0m\u001b[1;32m      2\u001b[0m     \u001b[0mdo_something\u001b[0m\u001b[0;34m(\u001b[0m\u001b[0;34m)\u001b[0m\u001b[0;34m\u001b[0m\u001b[0m\n\u001b[1;32m      3\u001b[0m \u001b[0mdo_one\u001b[0m\u001b[0;34m(\u001b[0m\u001b[0;34m)\u001b[0m\u001b[0;34m\u001b[0m\u001b[0m\n\u001b[1;32m      4\u001b[0m \u001b[0mdo_two\u001b[0m\u001b[0;34m(\u001b[0m\u001b[0;34m)\u001b[0m\u001b[0;34m\u001b[0m\u001b[0m\n\u001b[1;32m      5\u001b[0m \u001b[0mdo_three\u001b[0m\u001b[0;34m(\u001b[0m\u001b[0;34m)\u001b[0m\u001b[0;34m\u001b[0m\u001b[0m\n",
      "\u001b[0;31mNameError\u001b[0m: name 'foo' is not defined"
     ]
    }
   ],
   "source": [
    "if foo == 'blah':\n",
    "    do_something()\n",
    "do_one()\n",
    "do_two()\n",
    "do_three()"
   ]
  },
  {
   "cell_type": "markdown",
   "metadata": {},
   "source": [
    "Bad:"
   ]
  },
  {
   "cell_type": "code",
   "execution_count": 13,
   "metadata": {},
   "outputs": [
    {
     "ename": "NameError",
     "evalue": "name 'foo' is not defined",
     "output_type": "error",
     "traceback": [
      "\u001b[0;31m---------------------------------------------------------------------------\u001b[0m",
      "\u001b[0;31mNameError\u001b[0m                                 Traceback (most recent call last)",
      "\u001b[0;32m<ipython-input-13-0fcbf1dc731a>\u001b[0m in \u001b[0;36m<module>\u001b[0;34m()\u001b[0m\n\u001b[0;32m----> 1\u001b[0;31m \u001b[0;32mif\u001b[0m \u001b[0mfoo\u001b[0m \u001b[0;34m==\u001b[0m \u001b[0;34m'blah'\u001b[0m\u001b[0;34m:\u001b[0m \u001b[0mdo_something\u001b[0m\u001b[0;34m(\u001b[0m\u001b[0;34m)\u001b[0m\u001b[0;34m\u001b[0m\u001b[0m\n\u001b[0m\u001b[1;32m      2\u001b[0m \u001b[0mdo_one\u001b[0m\u001b[0;34m(\u001b[0m\u001b[0;34m)\u001b[0m\u001b[0;34m;\u001b[0m \u001b[0mdo_two\u001b[0m\u001b[0;34m(\u001b[0m\u001b[0;34m)\u001b[0m\u001b[0;34m;\u001b[0m \u001b[0mdo_three\u001b[0m\u001b[0;34m(\u001b[0m\u001b[0;34m)\u001b[0m\u001b[0;34m\u001b[0m\u001b[0m\n",
      "\u001b[0;31mNameError\u001b[0m: name 'foo' is not defined"
     ]
    }
   ],
   "source": [
    "if foo == 'blah': do_something()\n",
    "do_one(); do_two(); do_three()"
   ]
  },
  {
   "cell_type": "markdown",
   "metadata": {},
   "source": [
    "Whitespace & indentations are useful visual indicators of the program flow. The indentation of the second \"Good\" line above shows the reader that something's going on, whereas the lack of indentation in \"Bad\" hides the \"if\" statement.\n",
    "\n",
    "Multiple statements on one line are a cardinal sin. In Python, *readability counts*."
   ]
  },
  {
   "cell_type": "markdown",
   "metadata": {},
   "source": [
    "# Docstrings & Comments\n",
    "\n",
    "Docstrings = How to use code\n",
    "\n",
    "Comments = Why (rationale) & how code works\n",
    "\n",
    "Docstrings explain how to use code, and are for the users of your code. Uses of docstrings:\n",
    "\n",
    "- Explain the purpose of the function even if it seems obvious to you, because it might not be obvious to someone else later on.\n",
    "\n",
    "- Describe the parameters expected, the return values, and any exceptions raised.\n",
    "\n",
    "- If the method is tightly coupled with a single caller, make some mention of the caller (though be careful as the caller might change later).\n",
    "\n",
    "Comments explain why, and are for the maintainers of your code. Examples include notes to yourself, like:"
   ]
  },
  {
   "cell_type": "code",
   "execution_count": 14,
   "metadata": {
    "collapsed": true
   },
   "outputs": [],
   "source": [
    "# !!! BUG: ...\n",
    "\n",
    "# !!! FIX: This is a hack\n",
    "\n",
    "# ??? Why is this here?"
   ]
  },
  {
   "cell_type": "markdown",
   "metadata": {},
   "source": [
    "Both of these groups include you, so write good docstrings and comments!\n",
    "\n",
    "Docstrings are useful in interactive use (help()) and for auto-documentation systems.\n",
    "\n",
    "False comments & docstrings are worse than none at all. So keep them up to date! When you make changes, make sure the comments & docstrings are consistent with the code, and don't contradict it.\n",
    "\n",
    "There's an entire PEP about docstrings, PEP 257, \"Docstring Conventions\":\n",
    "\n",
    "http://www.python.org/dev/peps/pep-0257/"
   ]
  },
  {
   "cell_type": "markdown",
   "metadata": {},
   "source": [
    "# Practicality Beats Purity\n",
    "\n",
    "*A foolish consistency is the hobgoblin of little minds.* —Ralph Waldo Emerson\n",
    "\n",
    "(hobgoblin: Something causing superstitious fear; a bogy.)\n",
    "\n",
    "There are always exceptions. From PEP 8:\n",
    "\n",
    "But most importantly: know when to be inconsistent -- sometimes the style guide just doesn't apply. When in doubt, use your best judgment. Look at other examples and decide what looks best. And don't hesitate to ask!\n",
    "\n",
    "Two good reasons to break a particular rule:\n",
    "\n",
    "1. When applying the rule would make the code less readable, even for someone who is used to reading code that follows the rules.\n",
    "\n",
    "2. To be consistent with surrounding code that also breaks it (maybe for historic reasons) -- although this is also an opportunity to clean up someone else's mess (in true XP style).\n",
    "\n",
    "... but practicality shouldn't beat purity to a pulp!"
   ]
  },
  {
   "cell_type": "markdown",
   "metadata": {},
   "source": [
    "# Idiom Potpourri\n",
    "\n",
    "A selection of small, useful idioms.\n",
    "\n",
    "Now we move on to the meat of the tutorial: lots of idioms.\n",
    "\n",
    "We'll start with some easy ones and work our way up.\n",
    "\n",
    "# Swap Values\n",
    "\n",
    "In other languages:\n",
    "    \n",
    "    temp = a\n",
    "    a = b\n",
    "    b = temp\n",
    "\n",
    "In Python:\n",
    "\n",
    "    b, a = a, b\n",
    "\n",
    "Perhaps you've seen this before. But do you know how it works?\n",
    "\n",
    "- The comma is the tuple constructor syntax.\n",
    "\n",
    "- A tuple is created on the right (tuple packing).\n",
    "\n",
    "- A tuple is the target on the left (tuple unpacking).\n",
    "\n",
    "The right-hand side is unpacked into the names in the tuple on the left-hand side.\n",
    "\n",
    "Further examples of unpacking:"
   ]
  },
  {
   "cell_type": "code",
   "execution_count": 19,
   "metadata": {},
   "outputs": [
    {
     "data": {
      "text/plain": [
       "'David'"
      ]
     },
     "execution_count": 19,
     "metadata": {},
     "output_type": "execute_result"
    }
   ],
   "source": [
    "l = ['David', 'Pythonista', '+1-514-555-1234']\n",
    "name, title, phone = l\n",
    "name"
   ]
  },
  {
   "cell_type": "code",
   "execution_count": 20,
   "metadata": {},
   "outputs": [
    {
     "data": {
      "text/plain": [
       "'Pythonista'"
      ]
     },
     "execution_count": 20,
     "metadata": {},
     "output_type": "execute_result"
    }
   ],
   "source": [
    "title"
   ]
  },
  {
   "cell_type": "code",
   "execution_count": 21,
   "metadata": {},
   "outputs": [
    {
     "data": {
      "text/plain": [
       "'+1-514-555-1234'"
      ]
     },
     "execution_count": 21,
     "metadata": {},
     "output_type": "execute_result"
    }
   ],
   "source": [
    "phone"
   ]
  },
  {
   "cell_type": "markdown",
   "metadata": {
    "collapsed": true
   },
   "source": [
    "Useful in loops over structured data:\n",
    "\n",
    "l (L) above is the list we just made (David's info). So people is a list containing two items, each a 3-item list."
   ]
  },
  {
   "cell_type": "code",
   "execution_count": 3,
   "metadata": {},
   "outputs": [
    {
     "name": "stdout",
     "output_type": "stream",
     "text": [
      "David +1-514-555-1234\n",
      "Guido unlisted\n"
     ]
    }
   ],
   "source": [
    "people = [l, ['Guido', 'BDFL', 'unlisted']]\n",
    "for (name, title, phone) in people:\n",
    "    print name, phone"
   ]
  },
  {
   "cell_type": "markdown",
   "metadata": {
    "collapsed": true
   },
   "source": [
    "Each item in people is being unpacked into the (name, title, phone) tuple.\n",
    "\n",
    "Arbitrarily nestable (just be sure to match the structure on the left & right!):"
   ]
  },
  {
   "cell_type": "code",
   "execution_count": 22,
   "metadata": {},
   "outputs": [
    {
     "data": {
      "text/plain": [
       "'Guido'"
      ]
     },
     "execution_count": 22,
     "metadata": {},
     "output_type": "execute_result"
    }
   ],
   "source": [
    "david, (gname, gtitle, gphone) = people\n",
    "gname"
   ]
  },
  {
   "cell_type": "code",
   "execution_count": 23,
   "metadata": {},
   "outputs": [
    {
     "data": {
      "text/plain": [
       "'BDFL'"
      ]
     },
     "execution_count": 23,
     "metadata": {},
     "output_type": "execute_result"
    }
   ],
   "source": [
    "gtitle"
   ]
  },
  {
   "cell_type": "code",
   "execution_count": 24,
   "metadata": {},
   "outputs": [
    {
     "data": {
      "text/plain": [
       "'unlisted'"
      ]
     },
     "execution_count": 24,
     "metadata": {},
     "output_type": "execute_result"
    }
   ],
   "source": [
    "gphone"
   ]
  },
  {
   "cell_type": "code",
   "execution_count": 25,
   "metadata": {},
   "outputs": [
    {
     "data": {
      "text/plain": [
       "['David', 'Pythonista', '+1-514-555-1234']"
      ]
     },
     "execution_count": 25,
     "metadata": {},
     "output_type": "execute_result"
    }
   ],
   "source": [
    "david"
   ]
  },
  {
   "cell_type": "markdown",
   "metadata": {
    "collapsed": true
   },
   "source": [
    "# More About Tuples\n",
    "\n",
    "We saw that the comma is the tuple constructor, not the parentheses. Example:"
   ]
  },
  {
   "cell_type": "code",
   "execution_count": 6,
   "metadata": {},
   "outputs": [
    {
     "data": {
      "text/plain": [
       "(1,)"
      ]
     },
     "execution_count": 6,
     "metadata": {},
     "output_type": "execute_result"
    }
   ],
   "source": [
    "1,"
   ]
  },
  {
   "cell_type": "markdown",
   "metadata": {},
   "source": [
    "The Python interpreter shows the parentheses for clarity, and I recommend you use parentheses too:"
   ]
  },
  {
   "cell_type": "code",
   "execution_count": 7,
   "metadata": {},
   "outputs": [
    {
     "data": {
      "text/plain": [
       "(1,)"
      ]
     },
     "execution_count": 7,
     "metadata": {},
     "output_type": "execute_result"
    }
   ],
   "source": [
    "(1, )"
   ]
  },
  {
   "cell_type": "markdown",
   "metadata": {},
   "source": [
    "Don't forget the comma!"
   ]
  },
  {
   "cell_type": "code",
   "execution_count": 8,
   "metadata": {},
   "outputs": [
    {
     "data": {
      "text/plain": [
       "1"
      ]
     },
     "execution_count": 8,
     "metadata": {},
     "output_type": "execute_result"
    }
   ],
   "source": [
    "(1)"
   ]
  },
  {
   "cell_type": "markdown",
   "metadata": {},
   "source": [
    "In a one-tuple, the trailing comma is required; in 2+-tuples, the trailing comma is optional. In 0-tuples, or empty tuples, a pair of parentheses is the shortcut syntax:"
   ]
  },
  {
   "cell_type": "code",
   "execution_count": 9,
   "metadata": {},
   "outputs": [
    {
     "data": {
      "text/plain": [
       "()"
      ]
     },
     "execution_count": 9,
     "metadata": {},
     "output_type": "execute_result"
    }
   ],
   "source": [
    "()"
   ]
  },
  {
   "cell_type": "code",
   "execution_count": 10,
   "metadata": {},
   "outputs": [
    {
     "data": {
      "text/plain": [
       "()"
      ]
     },
     "execution_count": 10,
     "metadata": {},
     "output_type": "execute_result"
    }
   ],
   "source": [
    "tuple()"
   ]
  },
  {
   "cell_type": "markdown",
   "metadata": {},
   "source": [
    "A common typo is to leave a comma even though you don't want a tuple. It can be easy to miss in your code:"
   ]
  },
  {
   "cell_type": "code",
   "execution_count": 11,
   "metadata": {},
   "outputs": [
    {
     "data": {
      "text/plain": [
       "(1,)"
      ]
     },
     "execution_count": 11,
     "metadata": {},
     "output_type": "execute_result"
    }
   ],
   "source": [
    "value = 1,\n",
    "value"
   ]
  },
  {
   "cell_type": "markdown",
   "metadata": {},
   "source": [
    "So if you see a tuple where you don't expect one, look for a comma!"
   ]
  },
  {
   "cell_type": "markdown",
   "metadata": {},
   "source": [
    "# Interactive \"_\"\n",
    "\n",
    "This is a really useful feature that surprisingly few people know.\n",
    "\n",
    "In the interactive interpreter, whenever you evaluate an expression or call a function, the result is bound to a temporary name, \"_\" (an underscore):"
   ]
  },
  {
   "cell_type": "code",
   "execution_count": 13,
   "metadata": {},
   "outputs": [
    {
     "data": {
      "text/plain": [
       "2"
      ]
     },
     "execution_count": 13,
     "metadata": {},
     "output_type": "execute_result"
    }
   ],
   "source": [
    "1 + 1"
   ]
  },
  {
   "cell_type": "code",
   "execution_count": 14,
   "metadata": {},
   "outputs": [
    {
     "data": {
      "text/plain": [
       "2"
      ]
     },
     "execution_count": 14,
     "metadata": {},
     "output_type": "execute_result"
    }
   ],
   "source": [
    "_"
   ]
  },
  {
   "cell_type": "markdown",
   "metadata": {},
   "source": [
    "\"_\" stores the last printed expression.\n",
    "\n",
    "When a result is None, nothing is printed, so \"_\" doesn't change. That's convenient!\n",
    "\n",
    "This only works in the interactive interpreter, not within a module.\n",
    "\n",
    "It is especially useful when you're working out a problem interactively, and you want to store the result for a later step:"
   ]
  },
  {
   "cell_type": "code",
   "execution_count": 16,
   "metadata": {},
   "outputs": [
    {
     "data": {
      "text/plain": [
       "1.0471975511965976"
      ]
     },
     "execution_count": 16,
     "metadata": {},
     "output_type": "execute_result"
    }
   ],
   "source": [
    "import math\n",
    "math.pi / 3"
   ]
  },
  {
   "cell_type": "code",
   "execution_count": 17,
   "metadata": {},
   "outputs": [
    {
     "data": {
      "text/plain": [
       "0.5000000000000001"
      ]
     },
     "execution_count": 17,
     "metadata": {},
     "output_type": "execute_result"
    }
   ],
   "source": [
    "angle = _\n",
    "math.cos(angle)"
   ]
  },
  {
   "cell_type": "code",
   "execution_count": 18,
   "metadata": {},
   "outputs": [
    {
     "data": {
      "text/plain": [
       "0.5000000000000001"
      ]
     },
     "execution_count": 18,
     "metadata": {},
     "output_type": "execute_result"
    }
   ],
   "source": [
    "_"
   ]
  },
  {
   "cell_type": "markdown",
   "metadata": {},
   "source": [
    "# Building Strings from Substrings\n",
    "\n",
    "Start with a list of strings:"
   ]
  },
  {
   "cell_type": "code",
   "execution_count": 26,
   "metadata": {
    "collapsed": true
   },
   "outputs": [],
   "source": [
    "colors = ['red', 'blue', 'green', 'yellow']"
   ]
  },
  {
   "cell_type": "markdown",
   "metadata": {},
   "source": [
    "We want to join all the strings together into one large string. Especially when the number of substrings is large...\n",
    "\n",
    "Don't do this:"
   ]
  },
  {
   "cell_type": "code",
   "execution_count": 29,
   "metadata": {},
   "outputs": [
    {
     "name": "stdout",
     "output_type": "stream",
     "text": [
      "redbluegreenyellow\n"
     ]
    }
   ],
   "source": [
    "result = ''\n",
    "for s in colors:\n",
    "    result += s\n",
    "print result"
   ]
  },
  {
   "cell_type": "markdown",
   "metadata": {},
   "source": [
    "This is very inefficient.\n",
    "\n",
    "It has terrible memory usage and performance patterns. The \"summation\" will compute, store, and then throw away each intermediate step.\n",
    "\n",
    "Instead, do this:"
   ]
  },
  {
   "cell_type": "code",
   "execution_count": 30,
   "metadata": {},
   "outputs": [
    {
     "name": "stdout",
     "output_type": "stream",
     "text": [
      "redbluegreenyellow\n"
     ]
    }
   ],
   "source": [
    "result = ''.join(colors)\n",
    "print result"
   ]
  },
  {
   "cell_type": "markdown",
   "metadata": {},
   "source": [
    "The join() string method does all the copying in one pass.\n",
    "\n",
    "When you're only dealing with a few dozen or hundred strings, it won't make much difference. But get in the habit of building strings efficiently, because with thousands or with loops, it will make a difference."
   ]
  },
  {
   "cell_type": "markdown",
   "metadata": {},
   "source": [
    "# Building Strings, Variations 1\n",
    "\n",
    "Here are some techniques to use the join() string method.\n",
    "\n",
    "If you want spaces between your substrings:"
   ]
  },
  {
   "cell_type": "code",
   "execution_count": 31,
   "metadata": {},
   "outputs": [
    {
     "name": "stdout",
     "output_type": "stream",
     "text": [
      "red blue green yellow\n"
     ]
    }
   ],
   "source": [
    "result = ' '.join(colors)\n",
    "print result"
   ]
  },
  {
   "cell_type": "markdown",
   "metadata": {},
   "source": [
    "Or commas and spaces:"
   ]
  },
  {
   "cell_type": "code",
   "execution_count": 32,
   "metadata": {},
   "outputs": [
    {
     "name": "stdout",
     "output_type": "stream",
     "text": [
      "red, blue, green, yellow\n"
     ]
    }
   ],
   "source": [
    "result = ', '.join(colors)\n",
    "print result"
   ]
  },
  {
   "cell_type": "markdown",
   "metadata": {},
   "source": [
    "Here's a common case:"
   ]
  },
  {
   "cell_type": "code",
   "execution_count": 33,
   "metadata": {},
   "outputs": [
    {
     "name": "stdout",
     "output_type": "stream",
     "text": [
      "Choose red, blue, green or yellow\n"
     ]
    }
   ],
   "source": [
    "colors = ['red', 'blue', 'green', 'yellow']\n",
    "print 'Choose', ', '.join(colors[:-1]), \\\n",
    "      'or', colors[-1]"
   ]
  },
  {
   "cell_type": "markdown",
   "metadata": {},
   "source": [
    "To make a nicely grammatical sentence, we want commas between all but the last pair of values, where we want the word \"or\". The slice syntax does the job. The \"slice until -1\" ([:-1]) gives all but the last value, which we join with comma-space.\n",
    "\n",
    "Of course, this code wouldn't work with corner cases, lists of length 0 or 1."
   ]
  },
  {
   "cell_type": "markdown",
   "metadata": {},
   "source": [
    "# Building Strings, Variations 2\n",
    "\n",
    "If you need to apply a function to generate the substrings:\n",
    "\n",
    "    result = ''.join(fn(i) for i in items)\n",
    "\n",
    "This involves a generator expression, which we'll cover later.\n",
    "\n",
    "If you need to compute the substrings incrementally, accumulate them in a list first:\n",
    "\n",
    "    items = []\n",
    "    ...\n",
    "    items.append(item)  # many times\n",
    "    ...\n",
    "    # items is now complete\n",
    "    result = ''.join(fn(i) for i in items)\n",
    "\n",
    "We accumulate the parts in a list so that we can apply the join string method, for efficiency."
   ]
  },
  {
   "cell_type": "markdown",
   "metadata": {},
   "source": [
    "# Use 'in' where possible (1)\n",
    "\n",
    "Good:\n",
    "\n",
    "    for key in d:\n",
    "        print key\n",
    "\n",
    "- 'in' is generally faster.\n",
    "\n",
    "- This pattern also works for items in arbitrary containers (such as lists, tuples, and sets).\n",
    "\n",
    "- 'in' is also an operator (as we'll see).\n",
    "\n",
    "Bad:\n",
    "\n",
    "    for key in d.keys():\n",
    "        print key\n",
    "\n",
    "This is limited to objects with a keys() method."
   ]
  },
  {
   "cell_type": "markdown",
   "metadata": {},
   "source": [
    "# Use 'in' where possible (2)\n",
    "\n",
    "But .keys() is necessary when mutating the dictionary:\n",
    "\n",
    "    for key in d.keys():\n",
    "        d[str(key)] = d[key]\n",
    "\n",
    "d.keys() creates a static list of the dictionary keys. Otherwise, you'll get an exception \"RuntimeError: dictionary changed size during iteration\".\n",
    "\n",
    "For consistency, use key in dict, not dict.has_key():\n",
    "\n",
    "    # do this:\n",
    "    if key in d:\n",
    "        ...do something with d[key]\n",
    "\n",
    "    # not this:\n",
    "    if d.has_key(key):\n",
    "        ...do something with d[key]\n",
    "\n",
    "This usage of in is as an operator."
   ]
  },
  {
   "cell_type": "code",
   "execution_count": null,
   "metadata": {
    "collapsed": true
   },
   "outputs": [],
   "source": []
  },
  {
   "cell_type": "code",
   "execution_count": null,
   "metadata": {
    "collapsed": true
   },
   "outputs": [],
   "source": []
  },
  {
   "cell_type": "code",
   "execution_count": null,
   "metadata": {
    "collapsed": true
   },
   "outputs": [],
   "source": []
  },
  {
   "cell_type": "code",
   "execution_count": null,
   "metadata": {
    "collapsed": true
   },
   "outputs": [],
   "source": []
  },
  {
   "cell_type": "code",
   "execution_count": null,
   "metadata": {
    "collapsed": true
   },
   "outputs": [],
   "source": []
  },
  {
   "cell_type": "code",
   "execution_count": null,
   "metadata": {
    "collapsed": true
   },
   "outputs": [],
   "source": []
  }
 ],
 "metadata": {
  "kernelspec": {
   "display_name": "Python 2",
   "language": "python",
   "name": "python2"
  },
  "language_info": {
   "codemirror_mode": {
    "name": "ipython",
    "version": 2
   },
   "file_extension": ".py",
   "mimetype": "text/x-python",
   "name": "python",
   "nbconvert_exporter": "python",
   "pygments_lexer": "ipython2",
   "version": "2.7.13"
  }
 },
 "nbformat": 4,
 "nbformat_minor": 2
}
