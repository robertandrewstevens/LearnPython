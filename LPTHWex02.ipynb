{
 "cells": [
  {
   "cell_type": "code",
   "execution_count": null,
   "metadata": {
    "collapsed": true
   },
   "outputs": [],
   "source": [
    "title: \"ex2\"\n",
    "\n",
    "author: \"Robert A. Stevens\"\n",
    "\n",
    "date: \"July 15, 2017\"\n",
    "\n",
    "http://learnpythonthehardway.org/book/ex2.html\n",
    "\n",
    "Exercise 2: Comments and Pound Characters\n",
    "\n",
    "Python code"
   ]
  },
  {
   "cell_type": "code",
   "execution_count": 1,
   "metadata": {},
   "outputs": [
    {
     "name": "stdout",
     "output_type": "stream",
     "text": [
      "I could have code like this.\n",
      "This will run.\n"
     ]
    }
   ],
   "source": [
    "# A comment, this is so you can read your program later.\n",
    "# Anything after the # is ignored by python.\n",
    "\n",
    "print \"I could have code like this.\" # and the comment after is ignored\n",
    "\n",
    "# You can also use a comment to \"disable\" or comment out a piece of code:\n",
    "# print \"This won't run.\"\n",
    "\n",
    "print \"This will run.\""
   ]
  }
 ],
 "metadata": {
  "kernelspec": {
   "display_name": "Python 2",
   "language": "python",
   "name": "python2"
  },
  "language_info": {
   "codemirror_mode": {
    "name": "ipython",
    "version": 2
   },
   "file_extension": ".py",
   "mimetype": "text/x-python",
   "name": "python",
   "nbconvert_exporter": "python",
   "pygments_lexer": "ipython2",
   "version": "2.7.13"
  }
 },
 "nbformat": 4,
 "nbformat_minor": 2
}
