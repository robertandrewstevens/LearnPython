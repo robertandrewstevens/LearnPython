{
 "cells": [
  {
   "cell_type": "markdown",
   "metadata": {},
   "source": [
    "title: \"ex5\"\n",
    "\n",
    "author: \"Robert A. Stevens\"\n",
    "\n",
    "date: \"July 17, 2017\"\n",
    "\n",
    "http://learnpythonthehardway.org/book/ex5.html\n",
    "\n",
    "Exercise 5: More Variables and Printing\n",
    "\n",
    "Python code"
   ]
  },
  {
   "cell_type": "code",
   "execution_count": 1,
   "metadata": {},
   "outputs": [
    {
     "name": "stdout",
     "output_type": "stream",
     "text": [
      "Let's talk about Zed A. Shaw.\n",
      "He's 74 inches tall.\n",
      "He's 180 pounds heavy.\n",
      "Actually that's not too heavy.\n",
      "He's got Blue eyes and Brown hair.\n",
      "His teeth are usually White depending on the coffee.\n",
      "If I add 35, 74, and 180 I get 289.\n"
     ]
    }
   ],
   "source": [
    "my_name = 'Zed A. Shaw'\n",
    "my_age = 35 # not a lie\n",
    "my_height = 74 # inches\n",
    "my_weight = 180 # lbs\n",
    "my_eyes = 'Blue'\n",
    "my_teeth = 'White'\n",
    "my_hair = 'Brown'\n",
    "\n",
    "print \"Let's talk about %s.\" % my_name\n",
    "print \"He's %d inches tall.\" % my_height\n",
    "print \"He's %d pounds heavy.\" % my_weight\n",
    "print \"Actually that's not too heavy.\"\n",
    "print \"He's got %s eyes and %s hair.\" % (my_eyes, my_hair)\n",
    "print \"His teeth are usually %s depending on the coffee.\" % my_teeth\n",
    "\n",
    "# this line is tricky, try to get it exactly right\n",
    "print \"If I add %d, %d, and %d I get %d.\" % (\n",
    "    my_age, my_height, my_weight, my_age + my_height + my_weight)"
   ]
  }
 ],
 "metadata": {
  "kernelspec": {
   "display_name": "Python 2",
   "language": "python",
   "name": "python2"
  },
  "language_info": {
   "codemirror_mode": {
    "name": "ipython",
    "version": 2
   },
   "file_extension": ".py",
   "mimetype": "text/x-python",
   "name": "python",
   "nbconvert_exporter": "python",
   "pygments_lexer": "ipython2",
   "version": "2.7.13"
  }
 },
 "nbformat": 4,
 "nbformat_minor": 2
}
